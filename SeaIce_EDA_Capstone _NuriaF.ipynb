{
 "cells": [
  {
   "cell_type": "markdown",
   "id": "7681883f",
   "metadata": {},
   "source": [
    "# Exploratory Data Analysis of ice extension over time"
   ]
  },
  {
   "cell_type": "code",
   "execution_count": 182,
   "id": "01ae1e21",
   "metadata": {},
   "outputs": [],
   "source": [
    "# The magic four\n",
    "import pandas as pd\n",
    "import seaborn as sns\n",
    "import numpy as np\n",
    "import matplotlib.pyplot as plt\n",
    "%matplotlib inline\n",
    "\n",
    "# Dates\n",
    "import datetime\n",
    "\n",
    "# Plot style and size\n",
    "plt.style.use('seaborn-darkgrid')\n",
    "plt.rcParams['figure.figsize'] = (20,10)"
   ]
  },
  {
   "cell_type": "code",
   "execution_count": 184,
   "id": "186b83cc",
   "metadata": {},
   "outputs": [],
   "source": [
    "'''Dataset contains measures (in sq km) of the world's ice extension in both northern hemisphere \n",
    "   and shouthern hemisphere. Data was collected every day/every 2-3 days from 1978 to 2019'''\n",
    "\n",
    "# Import dataset\n",
    "\n",
    "ice = pd.read_csv('seaice.csv', skipinitialspace=True)"
   ]
  },
  {
   "cell_type": "markdown",
   "id": "5823e864",
   "metadata": {},
   "source": [
    "## 1 - Initial Data Exploration"
   ]
  },
  {
   "cell_type": "code",
   "execution_count": 185,
   "id": "f25d96cc",
   "metadata": {
    "scrolled": true
   },
   "outputs": [
    {
     "data": {
      "text/html": [
       "<div>\n",
       "<style scoped>\n",
       "    .dataframe tbody tr th:only-of-type {\n",
       "        vertical-align: middle;\n",
       "    }\n",
       "\n",
       "    .dataframe tbody tr th {\n",
       "        vertical-align: top;\n",
       "    }\n",
       "\n",
       "    .dataframe thead th {\n",
       "        text-align: right;\n",
       "    }\n",
       "</style>\n",
       "<table border=\"1\" class=\"dataframe\">\n",
       "  <thead>\n",
       "    <tr style=\"text-align: right;\">\n",
       "      <th></th>\n",
       "      <th>Year</th>\n",
       "      <th>Month</th>\n",
       "      <th>Day</th>\n",
       "      <th>Extent</th>\n",
       "      <th>Missing</th>\n",
       "      <th>Source Data</th>\n",
       "      <th>hemisphere</th>\n",
       "    </tr>\n",
       "  </thead>\n",
       "  <tbody>\n",
       "    <tr>\n",
       "      <th>0</th>\n",
       "      <td>1978</td>\n",
       "      <td>10</td>\n",
       "      <td>26</td>\n",
       "      <td>10.231</td>\n",
       "      <td>0.0</td>\n",
       "      <td>['ftp://sidads.colorado.edu/pub/DATASETS/nsidc...</td>\n",
       "      <td>north</td>\n",
       "    </tr>\n",
       "    <tr>\n",
       "      <th>1</th>\n",
       "      <td>1978</td>\n",
       "      <td>10</td>\n",
       "      <td>28</td>\n",
       "      <td>10.420</td>\n",
       "      <td>0.0</td>\n",
       "      <td>['ftp://sidads.colorado.edu/pub/DATASETS/nsidc...</td>\n",
       "      <td>north</td>\n",
       "    </tr>\n",
       "    <tr>\n",
       "      <th>2</th>\n",
       "      <td>1978</td>\n",
       "      <td>10</td>\n",
       "      <td>30</td>\n",
       "      <td>10.557</td>\n",
       "      <td>0.0</td>\n",
       "      <td>['ftp://sidads.colorado.edu/pub/DATASETS/nsidc...</td>\n",
       "      <td>north</td>\n",
       "    </tr>\n",
       "    <tr>\n",
       "      <th>3</th>\n",
       "      <td>1978</td>\n",
       "      <td>11</td>\n",
       "      <td>1</td>\n",
       "      <td>10.670</td>\n",
       "      <td>0.0</td>\n",
       "      <td>['ftp://sidads.colorado.edu/pub/DATASETS/nsidc...</td>\n",
       "      <td>north</td>\n",
       "    </tr>\n",
       "    <tr>\n",
       "      <th>4</th>\n",
       "      <td>1978</td>\n",
       "      <td>11</td>\n",
       "      <td>3</td>\n",
       "      <td>10.777</td>\n",
       "      <td>0.0</td>\n",
       "      <td>['ftp://sidads.colorado.edu/pub/DATASETS/nsidc...</td>\n",
       "      <td>north</td>\n",
       "    </tr>\n",
       "    <tr>\n",
       "      <th>...</th>\n",
       "      <td>...</td>\n",
       "      <td>...</td>\n",
       "      <td>...</td>\n",
       "      <td>...</td>\n",
       "      <td>...</td>\n",
       "      <td>...</td>\n",
       "      <td>...</td>\n",
       "    </tr>\n",
       "    <tr>\n",
       "      <th>26349</th>\n",
       "      <td>2019</td>\n",
       "      <td>5</td>\n",
       "      <td>27</td>\n",
       "      <td>10.085</td>\n",
       "      <td>0.0</td>\n",
       "      <td>['ftp://sidads.colorado.edu/pub/DATASETS/nsidc...</td>\n",
       "      <td>south</td>\n",
       "    </tr>\n",
       "    <tr>\n",
       "      <th>26350</th>\n",
       "      <td>2019</td>\n",
       "      <td>5</td>\n",
       "      <td>28</td>\n",
       "      <td>10.078</td>\n",
       "      <td>0.0</td>\n",
       "      <td>['ftp://sidads.colorado.edu/pub/DATASETS/nsidc...</td>\n",
       "      <td>south</td>\n",
       "    </tr>\n",
       "    <tr>\n",
       "      <th>26351</th>\n",
       "      <td>2019</td>\n",
       "      <td>5</td>\n",
       "      <td>29</td>\n",
       "      <td>10.219</td>\n",
       "      <td>0.0</td>\n",
       "      <td>['ftp://sidads.colorado.edu/pub/DATASETS/nsidc...</td>\n",
       "      <td>south</td>\n",
       "    </tr>\n",
       "    <tr>\n",
       "      <th>26352</th>\n",
       "      <td>2019</td>\n",
       "      <td>5</td>\n",
       "      <td>30</td>\n",
       "      <td>10.363</td>\n",
       "      <td>0.0</td>\n",
       "      <td>['ftp://sidads.colorado.edu/pub/DATASETS/nsidc...</td>\n",
       "      <td>south</td>\n",
       "    </tr>\n",
       "    <tr>\n",
       "      <th>26353</th>\n",
       "      <td>2019</td>\n",
       "      <td>5</td>\n",
       "      <td>31</td>\n",
       "      <td>10.436</td>\n",
       "      <td>0.0</td>\n",
       "      <td>['ftp://sidads.colorado.edu/pub/DATASETS/nsidc...</td>\n",
       "      <td>south</td>\n",
       "    </tr>\n",
       "  </tbody>\n",
       "</table>\n",
       "<p>26354 rows × 7 columns</p>\n",
       "</div>"
      ],
      "text/plain": [
       "       Year  Month  Day  Extent  Missing  \\\n",
       "0      1978     10   26  10.231      0.0   \n",
       "1      1978     10   28  10.420      0.0   \n",
       "2      1978     10   30  10.557      0.0   \n",
       "3      1978     11    1  10.670      0.0   \n",
       "4      1978     11    3  10.777      0.0   \n",
       "...     ...    ...  ...     ...      ...   \n",
       "26349  2019      5   27  10.085      0.0   \n",
       "26350  2019      5   28  10.078      0.0   \n",
       "26351  2019      5   29  10.219      0.0   \n",
       "26352  2019      5   30  10.363      0.0   \n",
       "26353  2019      5   31  10.436      0.0   \n",
       "\n",
       "                                             Source Data hemisphere  \n",
       "0      ['ftp://sidads.colorado.edu/pub/DATASETS/nsidc...      north  \n",
       "1      ['ftp://sidads.colorado.edu/pub/DATASETS/nsidc...      north  \n",
       "2      ['ftp://sidads.colorado.edu/pub/DATASETS/nsidc...      north  \n",
       "3      ['ftp://sidads.colorado.edu/pub/DATASETS/nsidc...      north  \n",
       "4      ['ftp://sidads.colorado.edu/pub/DATASETS/nsidc...      north  \n",
       "...                                                  ...        ...  \n",
       "26349  ['ftp://sidads.colorado.edu/pub/DATASETS/nsidc...      south  \n",
       "26350  ['ftp://sidads.colorado.edu/pub/DATASETS/nsidc...      south  \n",
       "26351  ['ftp://sidads.colorado.edu/pub/DATASETS/nsidc...      south  \n",
       "26352  ['ftp://sidads.colorado.edu/pub/DATASETS/nsidc...      south  \n",
       "26353  ['ftp://sidads.colorado.edu/pub/DATASETS/nsidc...      south  \n",
       "\n",
       "[26354 rows x 7 columns]"
      ]
     },
     "execution_count": 185,
     "metadata": {},
     "output_type": "execute_result"
    }
   ],
   "source": [
    "ice"
   ]
  },
  {
   "cell_type": "code",
   "execution_count": 186,
   "id": "e5246eca",
   "metadata": {},
   "outputs": [
    {
     "data": {
      "text/plain": [
       "Year             int64\n",
       "Month            int64\n",
       "Day              int64\n",
       "Extent         float64\n",
       "Missing        float64\n",
       "Source Data     object\n",
       "hemisphere      object\n",
       "dtype: object"
      ]
     },
     "execution_count": 186,
     "metadata": {},
     "output_type": "execute_result"
    }
   ],
   "source": [
    "# Check the data types of dataset\n",
    "\n",
    "ice.dtypes"
   ]
  },
  {
   "cell_type": "code",
   "execution_count": 171,
   "id": "0e50ee9a",
   "metadata": {},
   "outputs": [
    {
     "name": "stdout",
     "output_type": "stream",
     "text": [
      "<class 'pandas.core.frame.DataFrame'>\n",
      "RangeIndex: 26354 entries, 0 to 26353\n",
      "Data columns (total 7 columns):\n",
      " #   Column       Non-Null Count  Dtype  \n",
      "---  ------       --------------  -----  \n",
      " 0   Year         26354 non-null  int64  \n",
      " 1   Month        26354 non-null  int64  \n",
      " 2   Day          26354 non-null  int64  \n",
      " 3   Extent       26354 non-null  float64\n",
      " 4   Missing      26354 non-null  float64\n",
      " 5   Source Data  26354 non-null  object \n",
      " 6   hemisphere   26354 non-null  object \n",
      "dtypes: float64(2), int64(3), object(2)\n",
      "memory usage: 1.4+ MB\n"
     ]
    }
   ],
   "source": [
    "# Print a concise summary of the dataset\n",
    "\n",
    "ice.info()"
   ]
  },
  {
   "cell_type": "code",
   "execution_count": 187,
   "id": "2bc00b09",
   "metadata": {},
   "outputs": [
    {
     "data": {
      "text/plain": [
       "Year           0\n",
       "Month          0\n",
       "Day            0\n",
       "Extent         0\n",
       "Missing        0\n",
       "Source Data    0\n",
       "hemisphere     0\n",
       "dtype: int64"
      ]
     },
     "execution_count": 187,
     "metadata": {},
     "output_type": "execute_result"
    }
   ],
   "source": [
    "# Check the number of nulls\n",
    "\n",
    "ice.isnull().sum()\n",
    "# there's no nulls"
   ]
  },
  {
   "cell_type": "markdown",
   "id": "2f85ef58",
   "metadata": {},
   "source": [
    "# DATA CLEANING"
   ]
  },
  {
   "cell_type": "code",
   "execution_count": 173,
   "id": "a38c718a",
   "metadata": {},
   "outputs": [
    {
     "data": {
      "text/plain": [
       "['Year', 'Month', 'Day', 'Extent', 'Missing', 'Source Data', 'hemisphere']"
      ]
     },
     "execution_count": 173,
     "metadata": {},
     "output_type": "execute_result"
    }
   ],
   "source": [
    "# Print a list of the columns of the dataset\n",
    "\n",
    "list(ice.columns)"
   ]
  },
  {
   "cell_type": "code",
   "execution_count": 174,
   "id": "b21278bc",
   "metadata": {},
   "outputs": [],
   "source": [
    "# Merge 'Year', 'Month' and 'Day' in the same column 'Date' in order to change to datetime later\n",
    "\n",
    "cols = ['Year', 'Month', 'Day']\n",
    "ice['Date'] = ice[cols].apply(lambda row: '-'.join(row.values.astype(str)), axis=1)"
   ]
  },
  {
   "cell_type": "code",
   "execution_count": 175,
   "id": "83e08145",
   "metadata": {},
   "outputs": [],
   "source": [
    "# Change the data type of Date to datetime64[ns]\n",
    "\n",
    "ice['Date'] = pd.to_datetime(ice['Date'], format = '%Y-%m-%d')"
   ]
  },
  {
   "cell_type": "code",
   "execution_count": 176,
   "id": "6c7b4b71",
   "metadata": {
    "scrolled": true
   },
   "outputs": [],
   "source": [
    "# Set 'Date' column in the index\n",
    "\n",
    "ice.set_index('Date', inplace = True)\n",
    "ice.sort_index(inplace = True)"
   ]
  },
  {
   "cell_type": "code",
   "execution_count": 177,
   "id": "bf0709c4",
   "metadata": {},
   "outputs": [],
   "source": [
    "# Drop unnecessary columns\n",
    "\n",
    "ice.drop(columns=['Year', 'Month', 'Day', 'Source Data'], inplace=True)"
   ]
  },
  {
   "cell_type": "code",
   "execution_count": 178,
   "id": "96b9abcb",
   "metadata": {},
   "outputs": [],
   "source": [
    "# Filter rows by hemisphere\n",
    "\n",
    "north_hemisphere = ice[ice['hemisphere']=='north']\n",
    "south_hemisphere = ice[ice['hemisphere']=='south']"
   ]
  },
  {
   "cell_type": "code",
   "execution_count": 179,
   "id": "530d1974",
   "metadata": {},
   "outputs": [
    {
     "data": {
      "text/html": [
       "<div>\n",
       "<style scoped>\n",
       "    .dataframe tbody tr th:only-of-type {\n",
       "        vertical-align: middle;\n",
       "    }\n",
       "\n",
       "    .dataframe tbody tr th {\n",
       "        vertical-align: top;\n",
       "    }\n",
       "\n",
       "    .dataframe thead th {\n",
       "        text-align: right;\n",
       "    }\n",
       "</style>\n",
       "<table border=\"1\" class=\"dataframe\">\n",
       "  <thead>\n",
       "    <tr style=\"text-align: right;\">\n",
       "      <th></th>\n",
       "      <th>Extent</th>\n",
       "      <th>Missing</th>\n",
       "      <th>hemisphere</th>\n",
       "    </tr>\n",
       "    <tr>\n",
       "      <th>Date</th>\n",
       "      <th></th>\n",
       "      <th></th>\n",
       "      <th></th>\n",
       "    </tr>\n",
       "  </thead>\n",
       "  <tbody>\n",
       "    <tr>\n",
       "      <th>1978-10-26</th>\n",
       "      <td>10.231</td>\n",
       "      <td>0.0</td>\n",
       "      <td>north</td>\n",
       "    </tr>\n",
       "    <tr>\n",
       "      <th>1978-10-28</th>\n",
       "      <td>10.420</td>\n",
       "      <td>0.0</td>\n",
       "      <td>north</td>\n",
       "    </tr>\n",
       "    <tr>\n",
       "      <th>1978-10-30</th>\n",
       "      <td>10.557</td>\n",
       "      <td>0.0</td>\n",
       "      <td>north</td>\n",
       "    </tr>\n",
       "    <tr>\n",
       "      <th>1978-11-01</th>\n",
       "      <td>10.670</td>\n",
       "      <td>0.0</td>\n",
       "      <td>north</td>\n",
       "    </tr>\n",
       "    <tr>\n",
       "      <th>1978-11-03</th>\n",
       "      <td>10.777</td>\n",
       "      <td>0.0</td>\n",
       "      <td>north</td>\n",
       "    </tr>\n",
       "    <tr>\n",
       "      <th>...</th>\n",
       "      <td>...</td>\n",
       "      <td>...</td>\n",
       "      <td>...</td>\n",
       "    </tr>\n",
       "    <tr>\n",
       "      <th>2019-05-27</th>\n",
       "      <td>11.747</td>\n",
       "      <td>0.0</td>\n",
       "      <td>north</td>\n",
       "    </tr>\n",
       "    <tr>\n",
       "      <th>2019-05-28</th>\n",
       "      <td>11.672</td>\n",
       "      <td>0.0</td>\n",
       "      <td>north</td>\n",
       "    </tr>\n",
       "    <tr>\n",
       "      <th>2019-05-29</th>\n",
       "      <td>11.652</td>\n",
       "      <td>0.0</td>\n",
       "      <td>north</td>\n",
       "    </tr>\n",
       "    <tr>\n",
       "      <th>2019-05-30</th>\n",
       "      <td>11.594</td>\n",
       "      <td>0.0</td>\n",
       "      <td>north</td>\n",
       "    </tr>\n",
       "    <tr>\n",
       "      <th>2019-05-31</th>\n",
       "      <td>11.486</td>\n",
       "      <td>0.0</td>\n",
       "      <td>north</td>\n",
       "    </tr>\n",
       "  </tbody>\n",
       "</table>\n",
       "<p>13177 rows × 3 columns</p>\n",
       "</div>"
      ],
      "text/plain": [
       "            Extent  Missing hemisphere\n",
       "Date                                  \n",
       "1978-10-26  10.231      0.0      north\n",
       "1978-10-28  10.420      0.0      north\n",
       "1978-10-30  10.557      0.0      north\n",
       "1978-11-01  10.670      0.0      north\n",
       "1978-11-03  10.777      0.0      north\n",
       "...            ...      ...        ...\n",
       "2019-05-27  11.747      0.0      north\n",
       "2019-05-28  11.672      0.0      north\n",
       "2019-05-29  11.652      0.0      north\n",
       "2019-05-30  11.594      0.0      north\n",
       "2019-05-31  11.486      0.0      north\n",
       "\n",
       "[13177 rows x 3 columns]"
      ]
     },
     "execution_count": 179,
     "metadata": {},
     "output_type": "execute_result"
    }
   ],
   "source": [
    "north_hemisphere"
   ]
  },
  {
   "cell_type": "code",
   "execution_count": 180,
   "id": "fc509a98",
   "metadata": {},
   "outputs": [
    {
     "data": {
      "text/html": [
       "<div>\n",
       "<style scoped>\n",
       "    .dataframe tbody tr th:only-of-type {\n",
       "        vertical-align: middle;\n",
       "    }\n",
       "\n",
       "    .dataframe tbody tr th {\n",
       "        vertical-align: top;\n",
       "    }\n",
       "\n",
       "    .dataframe thead th {\n",
       "        text-align: right;\n",
       "    }\n",
       "</style>\n",
       "<table border=\"1\" class=\"dataframe\">\n",
       "  <thead>\n",
       "    <tr style=\"text-align: right;\">\n",
       "      <th></th>\n",
       "      <th>Extent</th>\n",
       "      <th>Missing</th>\n",
       "      <th>hemisphere</th>\n",
       "    </tr>\n",
       "    <tr>\n",
       "      <th>Date</th>\n",
       "      <th></th>\n",
       "      <th></th>\n",
       "      <th></th>\n",
       "    </tr>\n",
       "  </thead>\n",
       "  <tbody>\n",
       "    <tr>\n",
       "      <th>1978-10-26</th>\n",
       "      <td>17.624</td>\n",
       "      <td>0.0</td>\n",
       "      <td>south</td>\n",
       "    </tr>\n",
       "    <tr>\n",
       "      <th>1978-10-28</th>\n",
       "      <td>17.803</td>\n",
       "      <td>0.0</td>\n",
       "      <td>south</td>\n",
       "    </tr>\n",
       "    <tr>\n",
       "      <th>1978-10-30</th>\n",
       "      <td>17.670</td>\n",
       "      <td>0.0</td>\n",
       "      <td>south</td>\n",
       "    </tr>\n",
       "    <tr>\n",
       "      <th>1978-11-01</th>\n",
       "      <td>17.527</td>\n",
       "      <td>0.0</td>\n",
       "      <td>south</td>\n",
       "    </tr>\n",
       "    <tr>\n",
       "      <th>1978-11-03</th>\n",
       "      <td>17.486</td>\n",
       "      <td>0.0</td>\n",
       "      <td>south</td>\n",
       "    </tr>\n",
       "    <tr>\n",
       "      <th>...</th>\n",
       "      <td>...</td>\n",
       "      <td>...</td>\n",
       "      <td>...</td>\n",
       "    </tr>\n",
       "    <tr>\n",
       "      <th>2019-05-27</th>\n",
       "      <td>10.085</td>\n",
       "      <td>0.0</td>\n",
       "      <td>south</td>\n",
       "    </tr>\n",
       "    <tr>\n",
       "      <th>2019-05-28</th>\n",
       "      <td>10.078</td>\n",
       "      <td>0.0</td>\n",
       "      <td>south</td>\n",
       "    </tr>\n",
       "    <tr>\n",
       "      <th>2019-05-29</th>\n",
       "      <td>10.219</td>\n",
       "      <td>0.0</td>\n",
       "      <td>south</td>\n",
       "    </tr>\n",
       "    <tr>\n",
       "      <th>2019-05-30</th>\n",
       "      <td>10.363</td>\n",
       "      <td>0.0</td>\n",
       "      <td>south</td>\n",
       "    </tr>\n",
       "    <tr>\n",
       "      <th>2019-05-31</th>\n",
       "      <td>10.436</td>\n",
       "      <td>0.0</td>\n",
       "      <td>south</td>\n",
       "    </tr>\n",
       "  </tbody>\n",
       "</table>\n",
       "<p>13177 rows × 3 columns</p>\n",
       "</div>"
      ],
      "text/plain": [
       "            Extent  Missing hemisphere\n",
       "Date                                  \n",
       "1978-10-26  17.624      0.0      south\n",
       "1978-10-28  17.803      0.0      south\n",
       "1978-10-30  17.670      0.0      south\n",
       "1978-11-01  17.527      0.0      south\n",
       "1978-11-03  17.486      0.0      south\n",
       "...            ...      ...        ...\n",
       "2019-05-27  10.085      0.0      south\n",
       "2019-05-28  10.078      0.0      south\n",
       "2019-05-29  10.219      0.0      south\n",
       "2019-05-30  10.363      0.0      south\n",
       "2019-05-31  10.436      0.0      south\n",
       "\n",
       "[13177 rows x 3 columns]"
      ]
     },
     "execution_count": 180,
     "metadata": {},
     "output_type": "execute_result"
    }
   ],
   "source": [
    "south_hemisphere"
   ]
  },
  {
   "cell_type": "code",
   "execution_count": 183,
   "id": "754c8e52",
   "metadata": {},
   "outputs": [
    {
     "data": {
      "text/plain": [
       "<matplotlib.legend.Legend at 0x24495e9ce50>"
      ]
     },
     "execution_count": 183,
     "metadata": {},
     "output_type": "execute_result"
    },
    {
     "data": {
      "image/png": "[encoded data removed]",
      "text/plain": [
       "<Figure size 1080x360 with 1 Axes>"
      ]
     },
     "metadata": {},
     "output_type": "display_data"
    }
   ],
   "source": [
    "# plot northern and southern hemispheres ice extension\n",
    "\n",
    "plt.figure(figsize=(15,5))\n",
    "plt.plot(north_hemisphere['Extent'][:'2015'].resample('Y').mean(), \n",
    "         linewidth=2.0 ,\n",
    "         color='r', \n",
    "         label='Northern hemisphere')\n",
    "\n",
    "plt.plot(south_hemisphere['Extent'][:'2015'].resample('Y').mean(), \n",
    "         linewidth=2.0,\n",
    "         color='b', \n",
    "         label='Southern hemisphere')\n",
    "\n",
    "plt.ylabel('Sea ice extent (10^6 sq km)')\n",
    "plt.xlabel('Year')\n",
    "plt.title('Annual average sea-ice extent')\n",
    "plt.legend()"
   ]
  }
 ],
 "metadata": {
  "kernelspec": {
   "display_name": "Python 3",
   "language": "python",
   "name": "python3"
  },
  "language_info": {
   "codemirror_mode": {
    "name": "ipython",
    "version": 3
   },
   "file_extension": ".py",
   "mimetype": "text/x-python",
   "name": "python",
   "nbconvert_exporter": "python",
   "pygments_lexer": "ipython3",
   "version": "3.8.8"
  }
 },
 "nbformat": 4,
 "nbformat_minor": 5
}
